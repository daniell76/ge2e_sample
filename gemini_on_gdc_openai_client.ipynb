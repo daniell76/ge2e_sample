{
 "cells": [
  {
   "cell_type": "markdown",
   "id": "ab0bbf4715669bb6",
   "metadata": {},
   "source": [
    "1. Install and import required python packages"
   ]
  },
  {
   "cell_type": "code",
   "execution_count": 1,
   "id": "648ee4ad-bf0a-4eb7-bdb5-cf21fd4e5a6c",
   "metadata": {
    "ExecuteTime": {
     "end_time": "2025-05-19T10:25:01.350210Z",
     "start_time": "2025-05-19T10:24:59.250206Z"
    }
   },
   "outputs": [
    {
     "name": "stdout",
     "output_type": "stream",
     "text": [
      "Requirement already satisfied: pip in ./.venv/lib/python3.12/site-packages (25.1.1)\n",
      "Requirement already satisfied: cryptography==45.0.2 in ./.venv/lib/python3.12/site-packages (from -r requirements.txt (line 1)) (45.0.2)\n",
      "Requirement already satisfied: fastapi==0.115.12 in ./.venv/lib/python3.12/site-packages (from -r requirements.txt (line 2)) (0.115.12)\n",
      "Requirement already satisfied: google-auth==2.40.1 in ./.venv/lib/python3.12/site-packages (from -r requirements.txt (line 3)) (2.40.1)\n",
      "Requirement already satisfied: google-auth-oauthlib==1.2.2 in ./.venv/lib/python3.12/site-packages (from -r requirements.txt (line 4)) (1.2.2)\n",
      "Requirement already satisfied: httpx==0.28.1 in ./.venv/lib/python3.12/site-packages (from httpx[http2]==0.28.1->-r requirements.txt (line 5)) (0.28.1)\n",
      "Requirement already satisfied: openai==1.78.0 in ./.venv/lib/python3.12/site-packages (from -r requirements.txt (line 6)) (1.78.0)\n",
      "Requirement already satisfied: requests==2.32.3 in ./.venv/lib/python3.12/site-packages (from -r requirements.txt (line 7)) (2.32.3)\n",
      "Requirement already satisfied: cffi>=1.14 in ./.venv/lib/python3.12/site-packages (from cryptography==45.0.2->-r requirements.txt (line 1)) (1.17.1)\n",
      "Requirement already satisfied: starlette<0.47.0,>=0.40.0 in ./.venv/lib/python3.12/site-packages (from fastapi==0.115.12->-r requirements.txt (line 2)) (0.46.2)\n",
      "Requirement already satisfied: pydantic!=1.8,!=1.8.1,!=2.0.0,!=2.0.1,!=2.1.0,<3.0.0,>=1.7.4 in ./.venv/lib/python3.12/site-packages (from fastapi==0.115.12->-r requirements.txt (line 2)) (2.11.4)\n",
      "Requirement already satisfied: typing-extensions>=4.8.0 in ./.venv/lib/python3.12/site-packages (from fastapi==0.115.12->-r requirements.txt (line 2)) (4.13.2)\n",
      "Requirement already satisfied: cachetools<6.0,>=2.0.0 in ./.venv/lib/python3.12/site-packages (from google-auth==2.40.1->-r requirements.txt (line 3)) (5.5.2)\n",
      "Requirement already satisfied: pyasn1-modules>=0.2.1 in ./.venv/lib/python3.12/site-packages (from google-auth==2.40.1->-r requirements.txt (line 3)) (0.4.2)\n",
      "Requirement already satisfied: rsa<5,>=3.1.4 in ./.venv/lib/python3.12/site-packages (from google-auth==2.40.1->-r requirements.txt (line 3)) (4.9.1)\n",
      "Requirement already satisfied: requests-oauthlib>=0.7.0 in ./.venv/lib/python3.12/site-packages (from google-auth-oauthlib==1.2.2->-r requirements.txt (line 4)) (2.0.0)\n",
      "Requirement already satisfied: anyio in ./.venv/lib/python3.12/site-packages (from httpx==0.28.1->httpx[http2]==0.28.1->-r requirements.txt (line 5)) (4.9.0)\n",
      "Requirement already satisfied: certifi in ./.venv/lib/python3.12/site-packages (from httpx==0.28.1->httpx[http2]==0.28.1->-r requirements.txt (line 5)) (2025.4.26)\n",
      "Requirement already satisfied: httpcore==1.* in ./.venv/lib/python3.12/site-packages (from httpx==0.28.1->httpx[http2]==0.28.1->-r requirements.txt (line 5)) (1.0.9)\n",
      "Requirement already satisfied: idna in ./.venv/lib/python3.12/site-packages (from httpx==0.28.1->httpx[http2]==0.28.1->-r requirements.txt (line 5)) (3.10)\n",
      "Requirement already satisfied: distro<2,>=1.7.0 in ./.venv/lib/python3.12/site-packages (from openai==1.78.0->-r requirements.txt (line 6)) (1.9.0)\n",
      "Requirement already satisfied: jiter<1,>=0.4.0 in ./.venv/lib/python3.12/site-packages (from openai==1.78.0->-r requirements.txt (line 6)) (0.9.0)\n",
      "Requirement already satisfied: sniffio in ./.venv/lib/python3.12/site-packages (from openai==1.78.0->-r requirements.txt (line 6)) (1.3.1)\n",
      "Requirement already satisfied: tqdm>4 in ./.venv/lib/python3.12/site-packages (from openai==1.78.0->-r requirements.txt (line 6)) (4.67.1)\n",
      "Requirement already satisfied: charset-normalizer<4,>=2 in ./.venv/lib/python3.12/site-packages (from requests==2.32.3->-r requirements.txt (line 7)) (3.4.2)\n",
      "Requirement already satisfied: urllib3<3,>=1.21.1 in ./.venv/lib/python3.12/site-packages (from requests==2.32.3->-r requirements.txt (line 7)) (2.4.0)\n",
      "Requirement already satisfied: h2<5,>=3 in ./.venv/lib/python3.12/site-packages (from httpx[http2]==0.28.1->-r requirements.txt (line 5)) (4.2.0)\n",
      "Requirement already satisfied: hyperframe<7,>=6.1 in ./.venv/lib/python3.12/site-packages (from h2<5,>=3->httpx[http2]==0.28.1->-r requirements.txt (line 5)) (6.1.0)\n",
      "Requirement already satisfied: hpack<5,>=4.1 in ./.venv/lib/python3.12/site-packages (from h2<5,>=3->httpx[http2]==0.28.1->-r requirements.txt (line 5)) (4.1.0)\n",
      "Requirement already satisfied: h11>=0.16 in ./.venv/lib/python3.12/site-packages (from httpcore==1.*->httpx==0.28.1->httpx[http2]==0.28.1->-r requirements.txt (line 5)) (0.16.0)\n",
      "Requirement already satisfied: annotated-types>=0.6.0 in ./.venv/lib/python3.12/site-packages (from pydantic!=1.8,!=1.8.1,!=2.0.0,!=2.0.1,!=2.1.0,<3.0.0,>=1.7.4->fastapi==0.115.12->-r requirements.txt (line 2)) (0.7.0)\n",
      "Requirement already satisfied: pydantic-core==2.33.2 in ./.venv/lib/python3.12/site-packages (from pydantic!=1.8,!=1.8.1,!=2.0.0,!=2.0.1,!=2.1.0,<3.0.0,>=1.7.4->fastapi==0.115.12->-r requirements.txt (line 2)) (2.33.2)\n",
      "Requirement already satisfied: typing-inspection>=0.4.0 in ./.venv/lib/python3.12/site-packages (from pydantic!=1.8,!=1.8.1,!=2.0.0,!=2.0.1,!=2.1.0,<3.0.0,>=1.7.4->fastapi==0.115.12->-r requirements.txt (line 2)) (0.4.0)\n",
      "Requirement already satisfied: pyasn1>=0.1.3 in ./.venv/lib/python3.12/site-packages (from rsa<5,>=3.1.4->google-auth==2.40.1->-r requirements.txt (line 3)) (0.6.1)\n",
      "Requirement already satisfied: pycparser in ./.venv/lib/python3.12/site-packages (from cffi>=1.14->cryptography==45.0.2->-r requirements.txt (line 1)) (2.22)\n",
      "Requirement already satisfied: oauthlib>=3.0.0 in ./.venv/lib/python3.12/site-packages (from requests-oauthlib>=0.7.0->google-auth-oauthlib==1.2.2->-r requirements.txt (line 4)) (3.2.2)\n"
     ]
    }
   ],
   "source": [
    "!pip install --upgrade pip\n",
    "!pip install -r requirements.txt\n",
    "import os\n",
    "import requests\n",
    "import httpx\n",
    "import json\n",
    "import google.auth.transport.requests\n",
    "from google.oauth2 import gdch_credentials\n",
    "from openai import OpenAI\n",
    "\n",
    "# Disable self-signed cert warning for test environment. Remove this for production environment\n",
    "import urllib3\n",
    "urllib3.disable_warnings(urllib3.exceptions.InsecureRequestWarning)"
   ]
  },
  {
   "cell_type": "markdown",
   "id": "5374cb42411cc8b0",
   "metadata": {},
   "source": [
    "2. Setup environments  "
   ]
  },
  {
   "cell_type": "code",
   "execution_count": 2,
   "id": "e1bc818dd70eb58e",
   "metadata": {
    "ExecuteTime": {
     "end_time": "2025-05-19T10:25:01.356947Z",
     "start_time": "2025-05-19T10:25:01.352130Z"
    }
   },
   "outputs": [
    {
     "name": "stdout",
     "output_type": "stream",
     "text": [
      "WORK_DIR = /usr/local/google/home/danielxia/PycharmProjects/ge2e_sample\n",
      "SA_KEY_FILE = /usr/local/google/home/danielxia/PycharmProjects/ge2e_sample/sa-key.json\n",
      "ZONE_NAME = us-east38-a\n",
      "ENDPOINT = inference-gateway-aics-system.aics.lancer-org1.us-east38-a.google.gdch.test:443\n",
      "USER_PROJECT = gemini-test-38\n",
      "MODEL_NAME = gemini-1.5-flash-002\n"
     ]
    }
   ],
   "source": [
    "# Use the project folder as working directory\n",
    "from pathlib import Path\n",
    "WORK_DIR = Path().cwd()\n",
    "# If running from python script rather than notebook, the following code is more reliable\n",
    "# WORK_DIR = os.path.dirname(os.path.abspath(__file__))\n",
    "\n",
    "# Service account key file\n",
    "SA_KEY_FILE = \"sa-key.json\"\n",
    "SA_KEY_FILE = os.path.join(WORK_DIR, SA_KEY_FILE)\n",
    "\n",
    "# ORG_NAME = \"lancer-org1\"\n",
    "ZONE_NAME = \"us-east38-a\"\n",
    "# DOMAIN = \"google.gdch.test\"\n",
    "\n",
    "# for Gemini on GDCag, the inference api endpoint is the FQDN of inference gateway\n",
    "ENDPOINT = \"inference-gateway-aics-system.aics.lancer-org1.us-east38-a.google.gdch.test:443\"\n",
    "# User project is the GDC-ag project where your client code is deployed\n",
    "USER_PROJECT=\"gemini-test-38\"\n",
    "\n",
    "MODEL_NAME = \"gemini-1.5-flash-002\"\n",
    "\n",
    "print(f\"WORK_DIR = {WORK_DIR}\")\n",
    "print(f\"SA_KEY_FILE = {SA_KEY_FILE}\")\n",
    "print(f\"ZONE_NAME = {ZONE_NAME}\")\n",
    "print(f\"ENDPOINT = {ENDPOINT}\")\n",
    "print(f\"USER_PROJECT = {USER_PROJECT}\")\n",
    "print(f\"MODEL_NAME = {MODEL_NAME}\")"
   ]
  },
  {
   "cell_type": "markdown",
   "id": "bfd9916c78929b08",
   "metadata": {},
   "source": [
    "3. Define a class to wrap up openai api client  \n",
    "A service account key with sufficient permission is required to access gemini API on GDC  \n",
    "*Pay attention to the audience when retrieve STS token.*  \n",
    "    *For ***Openai(HTTP)*** request, the audience should ***EXCLUDE*** the port*  \n",
    "    *For ***GRPC*** request, the audience should ***INCLUDE*** the port*  \n",
    "    e.g. if the endpoint is `inference-gateway-aics-system.aics.lancer-org1.us-east38-a.google.gdch.test:443`  \n",
    "   The HTTP audience is `https://inference-gateway-aics-system.aics.lancer-org1.us-east38-a.google.gdch.test`,  \n",
    "   while the GRPC audience is `https://inference-gateway-aics-system.aics.lancer-org1.us-east38-a.google.gdch.test:443`"
   ]
  },
  {
   "cell_type": "code",
   "execution_count": 3,
   "id": "58c2db7f240635aa",
   "metadata": {
    "ExecuteTime": {
     "end_time": "2025-05-19T10:25:01.365551Z",
     "start_time": "2025-05-19T10:25:01.358603Z"
    }
   },
   "outputs": [],
   "source": [
    "class GdcOpenaiClient:\n",
    "\n",
    "    def __init__(self, endpoint, zone_name, userproject, sa_key_file,\n",
    "                 verify_cert: bool = True, timeout: int = 300):\n",
    "        self.sa_key_file = sa_key_file\n",
    "        self.zone_name = zone_name\n",
    "        self.userproject = userproject\n",
    "        self.endpoint = f\"https://{endpoint}\"\n",
    "        # Openai API is based on HTTP, so the audience does not include port\n",
    "        self.audience = f\"https://{endpoint.split(\":\")[0]}\"\n",
    "        # Use the service account key file and audience to build credentials\n",
    "        self.credentials = gdch_credentials.ServiceAccountCredentials.from_service_account_file(\n",
    "            self.sa_key_file).with_gdch_audience(self.audience)\n",
    "        # If using self-signed certs, set verify_cert to False\n",
    "        # For production environment, set verify_cert to True\n",
    "        self.verify_cert = verify_cert\n",
    "        self.token = None\n",
    "        self.timeout = timeout\n",
    "\n",
    "    def get_token(self):\n",
    "        # The generated STS token will be used in HTTP request header\n",
    "        session = requests.Session()\n",
    "        session.verify = self.verify_cert\n",
    "        request = google.auth.transport.requests.Request(session=session)\n",
    "        self.credentials.refresh(request)\n",
    "        self.token = self.credentials.token\n",
    "\n",
    "    def send_request(self, req_content, model: str = \"gemini-1.5-flash-002\", stream: bool = True):\n",
    "        \n",
    "        # update model and stream setting in the request content\n",
    "        req_content[\"model\"] = model\n",
    "        req_content[\"stream\"] = stream\n",
    "        \n",
    "        # construct the base url of request path\n",
    "        base_url = f\"{self.endpoint}/v1/projects/{self.userproject}/locations/{self.zone_name}\"\n",
    "        \n",
    "        # use a http 2.0 client.\n",
    "        httpx_client = httpx.Client(\n",
    "            http2=True, follow_redirects=True, verify=self.verify_cert,\n",
    "            timeout=self.timeout if self.timeout > 0 else None\n",
    "        )\n",
    "        \n",
    "        self.get_token()\n",
    "        openai_client = OpenAI(base_url=base_url, http_client=httpx_client, api_key=self.token)\n",
    "        response = openai_client.chat.completions.create(\n",
    "            **req_content,\n",
    "            extra_headers={\"x-goog-user-project\": f\"projects/{self.userproject}\"}\n",
    "        )\n",
    "        usage = {}\n",
    "        if stream:\n",
    "            for chunk in response:\n",
    "                if not chunk.choices:\n",
    "                    continue\n",
    "                rcv_content = chunk.choices[0].delta.content\n",
    "                if chunk.usage:\n",
    "                    usage = chunk.usage.to_dict()\n",
    "                yield rcv_content, usage\n",
    "        else:\n",
    "            rcv_content = response.choices[0].message.content\n",
    "            if response.usage:\n",
    "                usage = response.usage\n",
    "            yield rcv_content, usage"
   ]
  },
  {
   "cell_type": "markdown",
   "id": "839dcf5ae86594e4",
   "metadata": {},
   "source": [
    "4. Inferencing with prepared json request files  \n",
    "Prepared json request file is saved in [contents](contents) folder. The request files may contain the combination of text, image and audio. The media files, e.g. image and audio, are base64 encoded and embedded in the json request file.  \n",
    "Please refer to the folder [media_files](media_files) for the original files  \n",
    "\n",
    "\n",
    "* Create a client.  \n",
    "  Repalce `SA_KEY_FILE` with your own service account key"
   ]
  },
  {
   "cell_type": "code",
   "execution_count": 4,
   "id": "b305668e8f9005c8",
   "metadata": {
    "ExecuteTime": {
     "end_time": "2025-05-19T10:25:01.373265Z",
     "start_time": "2025-05-19T10:25:01.367747Z"
    }
   },
   "outputs": [],
   "source": [
    "ai_client = GdcOpenaiClient(\n",
    "    endpoint = ENDPOINT,\n",
    "    zone_name = ZONE_NAME,\n",
    "    userproject = USER_PROJECT,\n",
    "    sa_key_file = SA_KEY_FILE,\n",
    "    verify_cert = False\n",
    ")"
   ]
  },
  {
   "cell_type": "markdown",
   "id": "27bf01d0da8b4cac",
   "metadata": {},
   "source": [
    "* Text input with streaming output"
   ]
  },
  {
   "cell_type": "code",
   "execution_count": 5,
   "id": "f8ba7f4d6574891e",
   "metadata": {
    "ExecuteTime": {
     "end_time": "2025-05-19T10:25:13.636151Z",
     "start_time": "2025-05-19T10:25:01.374528Z"
    }
   },
   "outputs": [
    {
     "name": "stdout",
     "output_type": "stream",
     "text": [
      "I am doing well, thank you for asking! How are you today?\n",
      "\n"
     ]
    }
   ],
   "source": [
    "TEXT_INPUT = json.load(open(os.path.join(WORK_DIR, \"contents\", \"text.json\"), \"r\"))\n",
    "response = ai_client.send_request(TEXT_INPUT, model=MODEL_NAME, stream=True)\n",
    "for chunk in response:\n",
    "    print(chunk[0], end=\"\")\n",
    "print(\"\")"
   ]
  },
  {
   "cell_type": "markdown",
   "id": "22480a7e71964bae",
   "metadata": {},
   "source": [
    "* Text input with unary output"
   ]
  },
  {
   "cell_type": "code",
   "execution_count": 6,
   "id": "db6e433d88fa86a9",
   "metadata": {
    "ExecuteTime": {
     "end_time": "2025-05-19T10:25:17.761081Z",
     "start_time": "2025-05-19T10:25:13.637613Z"
    }
   },
   "outputs": [
    {
     "name": "stdout",
     "output_type": "stream",
     "text": [
      "I am doing well, thank you for asking!  How are you today?\n",
      "\n"
     ]
    }
   ],
   "source": [
    "response = ai_client.send_request(TEXT_INPUT, model=MODEL_NAME, stream=False)\n",
    "for chunk in response:\n",
    "    print(chunk[0], end=\"\")\n",
    "print(\"\")"
   ]
  },
  {
   "cell_type": "markdown",
   "id": "3c4d173c550966da",
   "metadata": {},
   "source": [
    "* Image input with unary output  \n",
    "\n",
    "![image](media_files/image.jpg)"
   ]
  },
  {
   "cell_type": "code",
   "execution_count": 7,
   "id": "2b2e3c7e7013dbf8",
   "metadata": {
    "ExecuteTime": {
     "end_time": "2025-05-19T10:25:21.171873Z",
     "start_time": "2025-05-19T10:25:17.762420Z"
    }
   },
   "outputs": [
    {
     "name": "stdout",
     "output_type": "stream",
     "text": [
      "That's a **Lisbon tram** (eléctrico) in Lisbon, Portugal.  Specifically, it looks like one of the older, iconic models that run on the city's historic tram lines.  The yellow paint and overall style are characteristic of these trams.\n",
      "\n"
     ]
    }
   ],
   "source": [
    "IMAGE_INPUT = json.load(open(os.path.join(WORK_DIR, \"contents\", \"image.json\"), \"r\"))\n",
    "response = ai_client.send_request(IMAGE_INPUT, model=MODEL_NAME, stream=False)\n",
    "for chunk in response:\n",
    "    print(chunk[0], end=\"\")\n",
    "print(\"\")"
   ]
  },
  {
   "cell_type": "markdown",
   "id": "a8071a686fc6232d",
   "metadata": {},
   "source": [
    "* Audio input with streaming output  \n",
    "\n",
    "[audio.mp3](media_files/audio.mp3)"
   ]
  },
  {
   "cell_type": "code",
   "execution_count": 8,
   "id": "e3ddbc094777bc26",
   "metadata": {
    "ExecuteTime": {
     "end_time": "2025-05-19T10:26:01.466363Z",
     "start_time": "2025-05-19T10:25:21.173169Z"
    }
   },
   "outputs": [
    {
     "name": "stdout",
     "output_type": "stream",
     "text": [
      "This is a speech given by Martin Luther King Jr.  The speaker begins by stating that the current event will go down in history as the greatest demonstration for freedom in the nation's history. He then references the Emancipation Proclamation, signed 100 years prior, which brought hope to millions of slaves, but notes that 100 years later, the Negro is still not free, and remains burdened by segregation and discrimination.  He speaks of a dream where one day the sons of former slaves and slave owners will sit together, and where the state of Mississippi will be transformed into an oasis of freedom and justice. He dreams of a day when his children will be judged by the content of their character, not the color of their skin. The speech then continues with a powerful call for freedom and equality across the United States, invoking imagery of freedom ringing from mountains and hills across different states. The speech culminates in a vision of a day when black and white men, Jews and Gentiles, Protestants and Catholics will join hands and sing the words of the old Negro spiritual, \"Free at last! Free at last! Thank God Almighty, we are free at last!\"\n",
      "\n"
     ]
    }
   ],
   "source": [
    "AUDIO_INPUT = json.load(open(os.path.join(WORK_DIR, \"contents\", \"audio.json\"), \"r\"))\n",
    "response = ai_client.send_request(AUDIO_INPUT, model=MODEL_NAME, stream=True)\n",
    "for chunk in response:\n",
    "    print(chunk[0], end=\"\")\n",
    "print(\"\")"
   ]
  },
  {
   "cell_type": "code",
   "execution_count": null,
   "id": "875d94203ddd0637",
   "metadata": {
    "ExecuteTime": {
     "end_time": "2025-05-19T10:26:01.469848Z",
     "start_time": "2025-05-19T10:26:01.467858Z"
    }
   },
   "outputs": [],
   "source": []
  }
 ],
 "metadata": {
  "kernelspec": {
   "display_name": "Python 3 (ipykernel)",
   "language": "python",
   "name": "python3"
  },
  "language_info": {
   "codemirror_mode": {
    "name": "ipython",
    "version": 3
   },
   "file_extension": ".py",
   "mimetype": "text/x-python",
   "name": "python",
   "nbconvert_exporter": "python",
   "pygments_lexer": "ipython3",
   "version": "3.12.9"
  }
 },
 "nbformat": 4,
 "nbformat_minor": 5
}
